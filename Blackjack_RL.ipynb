{
  "nbformat": 4,
  "nbformat_minor": 0,
  "metadata": {
    "colab": {
      "provenance": [],
      "authorship_tag": "ABX9TyMwcZR0xkhCcAp8cPXpDu+e",
      "include_colab_link": true
    },
    "kernelspec": {
      "name": "python3",
      "display_name": "Python 3"
    },
    "language_info": {
      "name": "python"
    }
  },
  "cells": [
    {
      "cell_type": "markdown",
      "metadata": {
        "id": "view-in-github",
        "colab_type": "text"
      },
      "source": [
        "<a href=\"https://colab.research.google.com/github/DManiscalco/Blackjack_RL/blob/main/Blackjack_RL.ipynb\" target=\"_parent\"><img src=\"https://colab.research.google.com/assets/colab-badge.svg\" alt=\"Open In Colab\"/></a>"
      ]
    },
    {
      "cell_type": "code",
      "source": [
        "import numpy as np"
      ],
      "metadata": {
        "id": "HpnX9VV0WkJX"
      },
      "execution_count": 1,
      "outputs": []
    },
    {
      "cell_type": "code",
      "execution_count": 22,
      "metadata": {
        "id": "kQ4cxGbdG3X-"
      },
      "outputs": [],
      "source": [
        "# Create a class for a player playing blackjack\n",
        "class BlackjackPlayer:\n",
        "  def __init__(self, cash):\n",
        "    self.cash = cash\n",
        "    self.ante = 5\n",
        "\n",
        "  def ante_up(self):\n",
        "    self.cash -= self.ante\n",
        "    return self.cash\n",
        "\n",
        "# Create a class for the shoe (holder of all of the cards)\n",
        "class Shoe:\n",
        "  def __init__(self, num_decks=4):\n",
        "    self.num_decks = num_decks\n",
        "    self.intialize_shoe()  # automatically set up decks and shuffle\n",
        "    self.dealt_cards = []\n",
        "\n",
        "  # TO START I'M TAKING OUT ACES BECAUSE THEY CAN BE 1 or 11\n",
        "  def intialize_shoe(self):\n",
        "    self.suits = 4\n",
        "    self.single_deck = np.tile(np.array([2, 3, 4, 5, 6, 7, 8, 9, 10, 'J', 'Q', 'K']), self.suits)\n",
        "    self.shoe = np.tile(self.single_deck, self.num_decks)  # add specified num of decks\n",
        "    np.random.shuffle(self.shoe)  # randomize the order of the cards for when they are pulled\n",
        "    return self.shoe\n",
        "\n",
        "  def deal_card(self):\n",
        "    self.dealt_card = self.shoe[-1]  # this is the card that is dealt\n",
        "    self.shoe = self.shoe[:-1]  # shoe now has one less card in it\n",
        "    self.dealt_cards.append(self.dealt_card)\n",
        "    return self.dealt_card"
      ]
    },
    {
      "cell_type": "code",
      "source": [
        "def deal_cards(num_cards=1):\n",
        "  # Face cards\n",
        "  faces = {'J', 'Q', 'K', 'A'}\n",
        "\n",
        "  # Starting values\n",
        "  dealt_sum = 0\n",
        "  dealt_cards = []\n",
        "\n",
        "  for i in range(num_cards):\n",
        "    current_card = game_shoe.deal_card()\n",
        "    dealt_cards.append(current_card)\n",
        "\n",
        "    if current_card not in faces:\n",
        "      dealt_sum += int(current_card)\n",
        "\n",
        "    elif current_card != 'A':\n",
        "      dealt_sum += 10\n",
        "\n",
        "    else:\n",
        "      pass  # TO CHANGE LATER AND ADD ACES\n",
        "\n",
        "  return dealt_sum, dealt_cards"
      ],
      "metadata": {
        "id": "5743R2sWyf1e"
      },
      "execution_count": 23,
      "outputs": []
    },
    {
      "cell_type": "code",
      "source": [
        "# Game variables\n",
        "hold_level = 16\n",
        "\n",
        "# Initialize game\n",
        "game_shoe = Shoe(4)"
      ],
      "metadata": {
        "id": "OgUYRpkEAno1"
      },
      "execution_count": 24,
      "outputs": []
    },
    {
      "cell_type": "code",
      "source": [
        "# Start playing game\n",
        "game_result = 0  # 0 means dealer win; 1 means player win\n",
        "\n",
        "# Initialize hands\n",
        "player_bust = False  # player hasn't gone over 21 yet\n",
        "our_sum, dealer_sum = 0, 0\n",
        "our_hand, dealer_hand = [], []\n",
        "\n",
        "# Start with 2 cards for each person\n",
        "for i in range(4):\n",
        "  if i == 0 or i == 2:  # add to our hand\n",
        "    temp_sum, temp_hand = deal_cards(1)\n",
        "    our_sum += temp_sum\n",
        "    our_hand.extend(temp_hand)\n",
        "\n",
        "  else:  # add to dealer hand\n",
        "    temp_sum, temp_hand = deal_cards(1)\n",
        "    dealer_sum += temp_sum\n",
        "    dealer_hand.extend(temp_hand)\n",
        "\n",
        "# Next steps of game - player goes\n",
        "print('player going...')\n",
        "while our_sum < hold_level:\n",
        "\n",
        "  # Starting to deal cards to player\n",
        "  print('player hits')\n",
        "  temp_sum, temp_hand = deal_cards(1)\n",
        "  our_sum += temp_sum\n",
        "  our_hand.extend(temp_hand)\n",
        "\n",
        "  # Check if we have broken 21\n",
        "  if our_sum > 21:\n",
        "    player_bust = True\n",
        "    print('player busts')\n",
        "  else:\n",
        "    pass\n",
        "\n",
        "if not player_bust:\n",
        "  print('player stays\\n')\n",
        "\n",
        "# Dealer goes if player has not busted\n",
        "print('dealer going...')\n",
        "if not player_bust:\n",
        "\n",
        "  if dealer_sum >= our_sum:\n",
        "    print('dealer has already won')\n",
        "\n",
        "  else:\n",
        "    # Dealer giving cards to themself - saying that dealer wins a tie\n",
        "    while dealer_sum < our_sum:\n",
        "\n",
        "      print('dealer hits')\n",
        "      temp_sum, temp_hand = deal_cards(1)\n",
        "      dealer_sum += temp_sum\n",
        "      dealer_hand.extend(temp_hand)\n",
        "\n",
        "      # Check the sum of the dealer's cards\n",
        "      if dealer_sum > 21:\n",
        "        game_result = 1\n",
        "        print('player wins!')\n",
        "      elif dealer_sum >= our_sum:\n",
        "        print('dealer wins!')\n",
        "      else:\n",
        "        pass\n",
        "\n",
        "else:  # player has busted and dealer wins automatically\n",
        "  print('dealer wins!')\n",
        "\n",
        "print(f'\\nPlayer sum is {our_sum} and hand is {our_hand}')\n",
        "print(f'Dealer sum is {dealer_sum} and hand is {dealer_hand}')\n",
        "print(f'Result is: {game_result}')"
      ],
      "metadata": {
        "colab": {
          "base_uri": "https://localhost:8080/"
        },
        "id": "HpiKIkCkmYzl",
        "outputId": "9a8a757b-f434-4d65-86d0-f22b658fa6eb"
      },
      "execution_count": 34,
      "outputs": [
        {
          "output_type": "stream",
          "name": "stdout",
          "text": [
            "player going...\n",
            "player hits\n",
            "player stays\n",
            "\n",
            "dealer going...\n",
            "dealer hits\n",
            "player wins!\n",
            "\n",
            "Player sum is 21 and hand is ['4', '7', 'K']\n",
            "Dealer sum is 24 and hand is ['4', 'J', '10']\n",
            "Result is: 1\n"
          ]
        }
      ]
    },
    {
      "cell_type": "code",
      "source": [],
      "metadata": {
        "id": "LsyR0kQwnhU1"
      },
      "execution_count": null,
      "outputs": []
    },
    {
      "cell_type": "code",
      "source": [],
      "metadata": {
        "id": "jP0DjV8vt8UY"
      },
      "execution_count": null,
      "outputs": []
    },
    {
      "cell_type": "code",
      "source": [],
      "metadata": {
        "id": "AHNy-wg7t8Xq"
      },
      "execution_count": null,
      "outputs": []
    },
    {
      "cell_type": "code",
      "source": [],
      "metadata": {
        "id": "YPuOQbgLt8ai"
      },
      "execution_count": null,
      "outputs": []
    },
    {
      "cell_type": "code",
      "source": [],
      "metadata": {
        "id": "nOaIsTJ9nhYN"
      },
      "execution_count": null,
      "outputs": []
    }
  ]
}