{
  "nbformat": 4,
  "nbformat_minor": 0,
  "metadata": {
    "colab": {
      "provenance": [],
      "authorship_tag": "ABX9TyM0buSNuIqFjx7Dp7QE7Y6R",
      "include_colab_link": true
    },
    "kernelspec": {
      "name": "python3",
      "display_name": "Python 3"
    },
    "language_info": {
      "name": "python"
    }
  },
  "cells": [
    {
      "cell_type": "markdown",
      "metadata": {
        "id": "view-in-github",
        "colab_type": "text"
      },
      "source": [
        "<a href=\"https://colab.research.google.com/github/DManiscalco/Blackjack_RL/blob/main/Blackjack_RL.ipynb\" target=\"_parent\"><img src=\"https://colab.research.google.com/assets/colab-badge.svg\" alt=\"Open In Colab\"/></a>"
      ]
    },
    {
      "cell_type": "code",
      "source": [
        "%%capture\n",
        "!pip install gymnasium\n",
        "!pip install stable_baselines3"
      ],
      "metadata": {
        "collapsed": true,
        "id": "319Po85G70Ir"
      },
      "execution_count": 1,
      "outputs": []
    },
    {
      "cell_type": "code",
      "source": [
        "import gymnasium as gym\n",
        "from gymnasium import spaces\n",
        "import numpy as np\n",
        "import random\n",
        "from stable_baselines3 import DQN\n",
        "from stable_baselines3 import PPO"
      ],
      "metadata": {
        "id": "HpnX9VV0WkJX"
      },
      "execution_count": 2,
      "outputs": []
    },
    {
      "cell_type": "markdown",
      "source": [
        "# First check using a single rule of stopping at a certain level"
      ],
      "metadata": {
        "id": "Q_S8g-UWtzAc"
      }
    },
    {
      "cell_type": "code",
      "source": [
        "# Random blackjack game win percentage\n",
        "def RandomBlackjack(hold_level=16, min_cards_remaining=20, games=1):\n",
        "  def deal_card():\n",
        "    dealt_card = shoe.pop()  # this is the card that is dealt; shoe now has one less card in it\n",
        "    return dealt_card\n",
        "\n",
        "  def calculate_hand_value(hand):\n",
        "    non_ace_sum = sum([x for x in hand if x > 1])  # sum of all non-aces\n",
        "    num_aces = hand.count(1)\n",
        "    hand_value = non_ace_sum + num_aces\n",
        "\n",
        "    # See if we are over 21 already\n",
        "    if hand_value > 21 or num_aces == 0:  # already gone over 21 or if we have no aces to calculate\n",
        "      return hand_value\n",
        "    else:  # have not yet gone over 21\n",
        "      for i in range(num_aces):  # check how many aces can be used to get highest value\n",
        "        if hand_value + 10 <= 21:\n",
        "          hand_value += 10\n",
        "        else:\n",
        "          return hand_value\n",
        "      return hand_value\n",
        "\n",
        "  def initialize_shoe(num_decks=4):\n",
        "    single_deck = [1, 2, 3, 4, 5, 6, 7, 8, 9, 10, 10, 10, 10] * 4  # face cards are 10 and ace is 1 or 11\n",
        "    shoe = single_deck * num_decks  # add specified num of decks\n",
        "    random.shuffle(shoe)  # randomize the order of the cards for when they are pulled\n",
        "    return shoe\n",
        "\n",
        "  # Initialize the game\n",
        "  decks_used = 4\n",
        "  shoe = initialize_shoe(decks_used)\n",
        "  player_wins = 0\n",
        "  player_draws = 0\n",
        "\n",
        "  # Start playing the games\n",
        "  for game in range(games):\n",
        "\n",
        "    # Check if the shoe needs to be reset when a new game starts\n",
        "    if len(shoe) <= min_cards_remaining:\n",
        "      # print('using new shoe')\n",
        "      shoe = initialize_shoe(decks_used)  # reset the shoe if there are too few cards left\n",
        "\n",
        "    player_hand = []\n",
        "    dealer_hand = []\n",
        "    player_sum = 0\n",
        "    dealer_sum = 0\n",
        "    game_result = 0\n",
        "\n",
        "    # Deal original 2 cards each to player and to dealer\n",
        "    for i in range(4):\n",
        "      if i == 0 or i == 2:  # deal to player\n",
        "        player_hand.append(deal_card())\n",
        "      else:  # deal to dealer\n",
        "        dealer_hand.append(deal_card())\n",
        "\n",
        "    # Calculate the value of the hands\n",
        "    player_sum = calculate_hand_value(player_hand)\n",
        "    dealer_sum = calculate_hand_value(dealer_hand)\n",
        "\n",
        "    while True:\n",
        "\n",
        "      # Start with player actions\n",
        "      if player_sum < hold_level:  # hit\n",
        "        player_hand.append(deal_card())\n",
        "        player_sum = calculate_hand_value(player_hand)\n",
        "\n",
        "        if player_sum > 21:  # player busts (goes over 21)\n",
        "          player_bust = True\n",
        "          reward = -1\n",
        "          break\n",
        "\n",
        "      else:  # stay\n",
        "        # Move into the dealer actions\n",
        "        while dealer_sum < player_sum and dealer_sum < 21:\n",
        "          dealer_hand.append(deal_card())\n",
        "          dealer_sum = calculate_hand_value(dealer_hand)\n",
        "\n",
        "        # Game result\n",
        "        if dealer_sum > 21 or player_sum > dealer_sum:\n",
        "          reward = 1  # player win\n",
        "          player_wins += 1\n",
        "        elif player_sum < dealer_sum:\n",
        "          reward = -1  # player loss (dealer win)\n",
        "        else:\n",
        "          reward = 0  # draw\n",
        "          player_draws += 1\n",
        "        break\n",
        "\n",
        "    # print('\\n')\n",
        "    # print(reward, f'player hand: {player_hand}', f'dealer hand: {dealer_hand}', f'player: {player_sum}', f'dealer: {dealer_sum}')\n",
        "\n",
        "  # End stats\n",
        "  print('\\n')\n",
        "  print(f'Games played: {games}')\n",
        "  print(f'Player win percentage: {player_wins / games}')\n",
        "  print(f'Player draw percentage: {player_draws / games}')"
      ],
      "metadata": {
        "id": "jP0DjV8vt8UY"
      },
      "execution_count": null,
      "outputs": []
    },
    {
      "cell_type": "code",
      "source": [
        "# Numbers for 500k runs at 16 min level:\n",
        "# Player win percentage: 0.36778\n",
        "# Player draw percentage: 0.132958\n",
        "\n",
        "RandomBlackjack(games=500_000)"
      ],
      "metadata": {
        "colab": {
          "base_uri": "https://localhost:8080/"
        },
        "id": "YPuOQbgLt8ai",
        "outputId": "e3a0b3a7-3c05-4c1a-fadf-0a14ec8db579"
      },
      "execution_count": null,
      "outputs": [
        {
          "output_type": "stream",
          "name": "stderr",
          "text": [
            "/usr/local/lib/python3.10/dist-packages/ipykernel/ipkernel.py:283: DeprecationWarning: `should_run_async` will not call `transform_cell` automatically in the future. Please pass the result to `transformed_cell` argument and any exception that happen during thetransform in `preprocessing_exc_tuple` in IPython 7.17 and above.\n",
            "  and should_run_async(code)\n"
          ]
        },
        {
          "output_type": "stream",
          "name": "stdout",
          "text": [
            "\n",
            "\n",
            "Games played: 500000\n",
            "Player win percentage: 0.36778\n",
            "Player draw percentage: 0.132958\n"
          ]
        }
      ]
    },
    {
      "cell_type": "markdown",
      "source": [
        "# Check using reinforcement learning model"
      ],
      "metadata": {
        "id": "4VOHHdLGtxeD"
      }
    },
    {
      "cell_type": "code",
      "execution_count": 3,
      "metadata": {
        "id": "kQ4cxGbdG3X-"
      },
      "outputs": [],
      "source": [
        "# Create a class for a player playing blackjack and their cash\n",
        "class BlackjackPlayer:\n",
        "  def __init__(self, cash):\n",
        "    self.cash = cash\n",
        "    self.ante = 5\n",
        "\n",
        "  def ante_up(self):\n",
        "    self.cash -= self.ante\n",
        "    return self.cash"
      ]
    },
    {
      "cell_type": "code",
      "source": [
        "# Creat a class for the entire environment of the game for an agent to learn from\n",
        "class BlackjackGame(gym.Env):\n",
        "  def __init__(self, num_decks=4, min_cards_remaining=20):\n",
        "    super().__init__()  # reference to the inheritence\n",
        "    self.num_decks = num_decks  # number of decks in the shoe\n",
        "    self.min_cards_remaining = min_cards_remaining  # number of cards remaining at which we implement a new shoe\n",
        "    self.shoe = self.initialize_shoe()  # initialize the shoe of specified number of decks\n",
        "    self.player_hand = []\n",
        "    self.dealer_hand = []\n",
        "    self.player_sum = 0\n",
        "    self.dealer_sum = 0\n",
        "    self.player_bust = False  # turns to True if player goes above 21\n",
        "    self.game_result = 0  # 0 for dealer win; 1 for player win\n",
        "\n",
        "    self.dealt_cards = []  # all of the cards that have been dealt from the current shoe\n",
        "\n",
        "    # Define action and observation spaces\n",
        "    self.action_space = spaces.Discrete(2)  # 0: Stand, 1: Hit (set of actions the agent can take in the game)\n",
        "    self.observation_space = spaces.Box(low=0, high=52,\n",
        "                                        shape=(4,),  # [player_sum, dealer_visible_card, has_usable_ace, cards remaining]\n",
        "                                        dtype=np.int32)\n",
        "\n",
        "  # create a shoe of a specific number of decks\n",
        "  def initialize_shoe(self):\n",
        "    self.single_deck = [1, 2, 3, 4, 5, 6, 7, 8, 9, 10, 10, 10, 10] * 4  # face cards are 10 and ace is 1 or 11\n",
        "    self.shoe = self.single_deck * self.num_decks  # add specified num of decks\n",
        "    random.shuffle(self.shoe)  # randomize the order of the cards for when they are pulled\n",
        "    return self.shoe\n",
        "\n",
        "  def deal_card(self):\n",
        "    self.dealt_card = self.shoe.pop()  # this is the card that is dealt; shoe now has one less card in it\n",
        "    self.dealt_cards.append(self.dealt_card)  # add the card to total list of dealt cards\n",
        "    return self.dealt_card\n",
        "\n",
        "  # For a new game we reset hands but keep the same shoe\n",
        "  def reset(self, seed=None, options=None):\n",
        "    super().reset(seed=seed)  # this reset method comes from the inheritence\n",
        "    self.player_hand = []\n",
        "    self.dealer_hand = []\n",
        "    self.player_sum = 0\n",
        "    self.dealer_sum = 0\n",
        "    self.player_bust = False  # turns to True if player goes above 21\n",
        "    self.game_result = 0  # 0 for dealer win; 1 for player win\n",
        "\n",
        "    # Check if the shoe needs to be reset when a new game starts\n",
        "    if len(self.shoe) <= self.min_cards_remaining:\n",
        "      self.shoe = self.initialize_shoe()  # reset the shoe if there are too few cards left\n",
        "\n",
        "    # Deal original 2 cards each to player and to dealer\n",
        "    for i in range(4):\n",
        "      if i == 0 or i == 2:  # deal to player\n",
        "        self.player_hand.append(self.deal_card())\n",
        "      else:  # deal to dealer\n",
        "        self.dealer_hand.append(self.deal_card())\n",
        "\n",
        "    # Calculate the value of the hands\n",
        "    self.player_sum = self.calculate_hand_value(self.player_hand)\n",
        "    self.dealer_sum = self.calculate_hand_value(self.dealer_hand)\n",
        "\n",
        "    # This relates to the self.observation_space above, specifically for the \"shape\" section\n",
        "    observation = np.array([self.player_sum, self.dealer_hand[0], self.has_usable_ace(self.player_hand), len(self.shoe)], dtype=np.int32)\n",
        "    return observation, {}\n",
        "\n",
        "  # Taking an action in the environment\n",
        "  def step(self, action):\n",
        "    # Start with player actions\n",
        "    if action == 1:  # hit\n",
        "      self.player_hand.append(self.deal_card())\n",
        "      self.player_sum = self.calculate_hand_value(self.player_hand)\n",
        "\n",
        "      if self.player_sum > 21:  # player busts (goes over 21)\n",
        "        self.player_bust = True\n",
        "        reward = -1\n",
        "        done = True\n",
        "        # Below is the return of the current observation (remember we can only see dealer's first card); True value indicates game ends\n",
        "        return np.array([self.player_sum, self.dealer_hand[0], self.has_usable_ace(self.player_hand), len(self.shoe)], dtype=np.int32), reward, done, True, {}\n",
        "\n",
        "    elif action == 0:  # stay\n",
        "      # Move into the dealer actions\n",
        "      while self.dealer_sum < self.player_sum and self.dealer_sum < 21:\n",
        "        self.dealer_hand.append(self.deal_card())\n",
        "        self.dealer_sum = self.calculate_hand_value(self.dealer_hand)\n",
        "\n",
        "      # Game result\n",
        "      if self.dealer_sum > 21 or self.player_sum > self.dealer_sum:\n",
        "        reward = 1  # player win\n",
        "      elif self.player_sum < self.dealer_sum:\n",
        "        reward = -1  # player loss (dealer win)\n",
        "      else:\n",
        "        reward = 0  # draw\n",
        "      done = True\n",
        "      # Below is the return of the current observation (remember we can only see dealer's first card)\n",
        "      return np.array([self.player_sum, self.dealer_hand[0], self.has_usable_ace(self.player_hand), len(self.shoe)], dtype=np.int32), reward, done, True, {}\n",
        "\n",
        "    else:  # this should not be used\n",
        "      pass\n",
        "\n",
        "    # Game is not done, return current state (player has hit but not gone over 21)\n",
        "    done = False\n",
        "    reward = 0\n",
        "    # Below is the return of the current observation (remember we can only see dealer's first card)\n",
        "    return np.array([self.player_sum, self.dealer_hand[0], self.has_usable_ace(self.player_hand), len(self.shoe)], dtype=np.int32), reward, done, False, {}\n",
        "\n",
        "  # Function to count the value of a hand, taking aces into account\n",
        "  def calculate_hand_value(self, hand):\n",
        "    non_ace_sum = sum([x for x in hand if x > 1])  # sum of all non-aces\n",
        "    num_aces = hand.count(1)\n",
        "    hand_value = non_ace_sum + num_aces\n",
        "\n",
        "    # See if we are over 21 already\n",
        "    if hand_value > 21 or num_aces == 0:  # already gone over 21 or if we have no aces to calculate\n",
        "      return hand_value\n",
        "    else:  # have not yet gone over 21\n",
        "      for i in range(num_aces):  # check how many aces can be used to get highest value\n",
        "        if hand_value + 10 <= 21:\n",
        "          hand_value += 10\n",
        "        else:\n",
        "          return hand_value\n",
        "      return hand_value\n",
        "\n",
        "  # See if we have an ace that can be used as an 11\n",
        "  def has_usable_ace(self, hand):\n",
        "    num_aces = hand.count(1)\n",
        "    hand_value = sum([x for x in hand if x > 1]) + num_aces\n",
        "\n",
        "    usable_aces = 0\n",
        "    for ace in range(num_aces):\n",
        "      if hand_value + 10 <= 21:\n",
        "        hand_value += 10\n",
        "        usable_aces += 1\n",
        "      else:\n",
        "        break\n",
        "    return usable_aces  # can only be 0 or 1\n",
        "\n",
        "  # Print the current status of the game\n",
        "  def game_status(self):\n",
        "    print(f'Player Hand: {self.player_hand} | Player Sum: {self.player_sum}')\n",
        "    print(f'Dealer Hand: {self.dealer_hand} | Dealer Sum: {self.dealer_sum}')"
      ],
      "metadata": {
        "id": "-0SdP2xq5t3W"
      },
      "execution_count": 4,
      "outputs": []
    },
    {
      "cell_type": "code",
      "source": [
        "# Training the RL agent\n",
        "\n",
        "# Create a game environment\n",
        "game = BlackjackGame(num_decks=4)\n",
        "\n",
        "# Create and then train the model based on the blackjack class we created\n",
        "rl_model = PPO('MlpPolicy', game, verbose=0)\n",
        "rl_model.learn(total_timesteps=50_000)\n",
        "\n",
        "# Testing the model that was trained\n",
        "obs, info = game.reset()\n",
        "done = False\n",
        "while not done:\n",
        "  action, states = rl_model.predict(obs)\n",
        "  obs, reward, done, truncated, info = game.step(action)\n",
        "  game.game_status()"
      ],
      "metadata": {
        "colab": {
          "base_uri": "https://localhost:8080/"
        },
        "collapsed": true,
        "id": "Fma_a99NCs0y",
        "outputId": "1f15fade-e88e-44b0-df81-091aac447263"
      },
      "execution_count": 5,
      "outputs": [
        {
          "output_type": "stream",
          "name": "stderr",
          "text": [
            "/usr/local/lib/python3.10/dist-packages/ipykernel/ipkernel.py:283: DeprecationWarning: `should_run_async` will not call `transform_cell` automatically in the future. Please pass the result to `transformed_cell` argument and any exception that happen during thetransform in `preprocessing_exc_tuple` in IPython 7.17 and above.\n",
            "  and should_run_async(code)\n"
          ]
        },
        {
          "output_type": "stream",
          "name": "stdout",
          "text": [
            "Player Hand: [1, 5, 9] | Player Sum: 15\n",
            "Dealer Hand: [10, 3] | Dealer Sum: 13\n",
            "Player Hand: [1, 5, 9, 10] | Player Sum: 25\n",
            "Dealer Hand: [10, 3] | Dealer Sum: 13\n"
          ]
        }
      ]
    },
    {
      "cell_type": "code",
      "source": [
        "# Testing the model after training\n",
        "num_games = 5_000  # Number of games to run for testing\n",
        "total_reward = 0  # sum of the rewards from all of the games\n",
        "wins = 0\n",
        "losses = 0\n",
        "draws = 0\n",
        "\n",
        "for i in range(num_games):\n",
        "    obs, info = game.reset()\n",
        "    done = False\n",
        "    while not done:\n",
        "        action, states = rl_model.predict(obs)\n",
        "        obs, reward, done, truncated, info = game.step(action)\n",
        "\n",
        "        total_reward += reward\n",
        "\n",
        "        # Track wins, losses, and draws for the final reward\n",
        "        if reward == 1:\n",
        "            wins += 1\n",
        "        elif reward == -1:\n",
        "            losses += 1\n",
        "        elif reward == 0:\n",
        "            draws += 1\n",
        "\n",
        "# Summary of overall wins, losses, and draws after running the test games\n",
        "print(f'Total Reward over {num_games} games: {total_reward}')\n",
        "print(f'Win Rate: {wins / num_games}')\n",
        "print(f'Loss Rate: {losses / num_games}')\n",
        "print(f'Draw Rate: {draws / num_games}')"
      ],
      "metadata": {
        "colab": {
          "base_uri": "https://localhost:8080/"
        },
        "id": "1gQ1Xze9Cs3r",
        "outputId": "8d5e120b-2786-4769-816d-9a5d9175076e"
      },
      "execution_count": 6,
      "outputs": [
        {
          "output_type": "stream",
          "name": "stderr",
          "text": [
            "/usr/local/lib/python3.10/dist-packages/ipykernel/ipkernel.py:283: DeprecationWarning: `should_run_async` will not call `transform_cell` automatically in the future. Please pass the result to `transformed_cell` argument and any exception that happen during thetransform in `preprocessing_exc_tuple` in IPython 7.17 and above.\n",
            "  and should_run_async(code)\n"
          ]
        },
        {
          "output_type": "stream",
          "name": "stdout",
          "text": [
            "Total Reward over 5000 games: -806\n",
            "Win Rate: 0.3488\n",
            "Loss Rate: 0.51\n",
            "Draw Rate: 0.682\n"
          ]
        }
      ]
    },
    {
      "cell_type": "code",
      "source": [],
      "metadata": {
        "id": "lLpEJzQJCtAS"
      },
      "execution_count": null,
      "outputs": []
    },
    {
      "cell_type": "code",
      "source": [],
      "metadata": {
        "id": "5cQVDX1_CtDq"
      },
      "execution_count": null,
      "outputs": []
    },
    {
      "cell_type": "code",
      "source": [],
      "metadata": {
        "id": "0SMgGhnUCtH0"
      },
      "execution_count": null,
      "outputs": []
    },
    {
      "cell_type": "code",
      "source": [],
      "metadata": {
        "id": "LsyR0kQwnhU1"
      },
      "execution_count": null,
      "outputs": []
    },
    {
      "cell_type": "code",
      "source": [],
      "metadata": {
        "id": "UkTZyNNi5s3_"
      },
      "execution_count": null,
      "outputs": []
    },
    {
      "cell_type": "code",
      "source": [],
      "metadata": {
        "id": "x1X3QQ2L5s6Q"
      },
      "execution_count": null,
      "outputs": []
    },
    {
      "cell_type": "code",
      "source": [],
      "metadata": {
        "id": "nOaIsTJ9nhYN"
      },
      "execution_count": null,
      "outputs": []
    }
  ]
}